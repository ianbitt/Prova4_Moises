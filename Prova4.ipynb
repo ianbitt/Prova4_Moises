{
 "cells": [
  {
   "cell_type": "markdown",
   "metadata": {},
   "source": [
    "# Resolução de Exercício de Avaliação \n",
    "\n",
    "Este notebook contém a resolução de quatro questões usando métodos numéricos em Python, abordando os seguintes tópicos:\n",
    "\n",
    "1. Regra de Simpson composta para estimar a distância que o corredor cobriu durante um dado tempo.\n",
    "2. Regra dos Trapézios Generalizada aplicando a regra para estimar a pressão total sobre a parede.\n",
    "3. Uso do método de Gauss-Seidel para resolver um sistema de equações que representa o balanceamento de carga\n",
    "em diferentes nós de uma rede.\n",
    "4. Calcule de um número aproximado de computadores de cada tipo produzidos por dia."
   ]
  },
  {
   "cell_type": "code",
   "execution_count": 237,
   "metadata": {},
   "outputs": [],
   "source": [
    "from tabulate import tabulate\n",
    "from math import sqrt\n",
    "import numpy as np\n",
    "from numpy import array, zeros, diag, diagflat, dot\n"
   ]
  },
  {
   "cell_type": "markdown",
   "metadata": {},
   "source": [
    "# Definindo métodos"
   ]
  },
  {
   "cell_type": "markdown",
   "metadata": {},
   "source": [
    "## Método dos trapézios"
   ]
  },
  {
   "cell_type": "code",
   "execution_count": 216,
   "metadata": {},
   "outputs": [],
   "source": [
    "# Definindo o método dos trapézios\n",
    "def trapezios(f, h, n, a, b):\n",
    "    results = []\n",
    "    i = a\n",
    "    j = 0\n",
    "    while i <= b:\n",
    "        y = round(f(i),4)\n",
    "        if j == 0 or j == n:\n",
    "            results.append([j, i, y]) # Guarda os valores de y\n",
    "        else:\n",
    "            results.append([j, i, 2*y])\n",
    "        i+=h\n",
    "        j+=1\n",
    "    \n",
    "    yn = []\n",
    "    for row in results:\n",
    "        y_result = row[2]\n",
    "        yn.append(y_result)\n",
    "\n",
    "    result = (h/2) * sum(yn)\n",
    "    return result, results"
   ]
  },
  {
   "cell_type": "markdown",
   "metadata": {},
   "source": [
    "## Método de Simpson Composto"
   ]
  },
  {
   "cell_type": "code",
   "execution_count": 125,
   "metadata": {},
   "outputs": [],
   "source": [
    "# Definindo o método de Simpson Composto\n",
    "# Lembrando que o intervalo tem que se par, caso contrário, não funcionará\n",
    "def simpson(f, h, n, a, b):\n",
    "    if n%2 != 0:\n",
    "        return(\"Erro: n não pode ser ímpar\")\n",
    "    else:\n",
    "        results = []\n",
    "        i = a #Definindo o começo do intervalo a se calcular os valores de cada y\n",
    "        j = 0 #Definindo contador\n",
    "        while i <= b: #While para criar a lista com os resultados desejados\n",
    "            y = round(f(i),6)\n",
    "            if j == 0 or j == n:\n",
    "                results.append(j, i, y) #Guarda os valores de y\n",
    "            elif j%2 == 0:\n",
    "                results.append(j, i, 2*y) # Guarda os valores de y\n",
    "            else:\n",
    "                results.append(j, i, 4*y)\n",
    "            i+=h\n",
    "            j+=1\n",
    "            yn = []\n",
    "        for row in results:\n",
    "            y_result = row[2]\n",
    "            yn.append(y_result)\n",
    "\n",
    "    result = (h/3) * sum(yn)\n",
    "    return result, results"
   ]
  },
  {
   "cell_type": "code",
   "execution_count": 222,
   "metadata": {},
   "outputs": [],
   "source": [
    "#Check if the matrix is diagonal dominant\n",
    "def check_diaDom(A):\n",
    "    r = len(A)\n",
    "    # Always good idea to see if the code is working the way it should be\n",
    "    # so, I have included print option to check throughout the process\n",
    "    diagnl = 0\n",
    "    non_diagnl = 0\n",
    "\n",
    "    for i in range(r):\n",
    "        for j in range(r):\n",
    "            # print(f'Loop i = {i}, j = {j}\\n')\n",
    "            # print(A[i, j])\n",
    "            if i ==j:\n",
    "             diagnl+=abs(A[i] [j])\n",
    "            elif i !=j: #here you can simply use else rather than else if\n",
    "             non_diagnl+=abs(A[i] [j])\n",
    "    \n",
    "    # print('Sum of diagonal elements\\n', diagnl)\n",
    "    # print('Sum of non-diagonal elements\\n', non_diagnl)\n",
    "\n",
    "    if diagnl >=non_diagnl:\n",
    "       verdict = True\n",
    "       #print('Diagonal dominant Matrix')\n",
    "    else:\n",
    "       #print('Non-diagonal dominant Matrix')\n",
    "       verdict = False\n",
    "    return verdict\n",
    "\n",
    "def GS_method(A, Y, X, tol=0.001, max_iterations=1000):\n",
    "    n = len(A)\n",
    "    for iteration in range(max_iterations):\n",
    "        X_old = X.copy()\n",
    "        for j in range(n):\n",
    "            summ_val = Y[j]\n",
    "            for i in range(n):\n",
    "                if j != i:\n",
    "                    summ_val -= A[j][i] * X[i]\n",
    "            X[j] = summ_val / A[j][j]\n",
    "        # Compute the maximum change in X\n",
    "        diff = max(abs(X[j] - X_old[j]) for j in range(n))\n",
    "        if diff < tol:\n",
    "            print(f\"Converged after {iteration+1} iterations.\")\n",
    "            break\n",
    "    else:\n",
    "        print(\"Maximum iterations reached without convergence.\")\n",
    "    return X"
   ]
  },
  {
   "cell_type": "markdown",
   "metadata": {},
   "source": [
    "# Resolução de Questões"
   ]
  },
  {
   "cell_type": "markdown",
   "metadata": {},
   "source": [
    "## Teste com exemplo dos slides"
   ]
  },
  {
   "cell_type": "code",
   "execution_count": 172,
   "metadata": {},
   "outputs": [],
   "source": [
    "def ft(x):\n",
    "    return sqrt(1+x**3)"
   ]
  },
  {
   "cell_type": "code",
   "execution_count": 173,
   "metadata": {},
   "outputs": [],
   "source": [
    "# Definir o número de intervalos a ser utilizados\n",
    "n = 6\n",
    "\n",
    "# Definir a h do intervalo a ser calculado\n",
    "a = 1\n",
    "b = 2\n",
    "\n",
    "h = (b-a)/n"
   ]
  },
  {
   "cell_type": "code",
   "execution_count": 177,
   "metadata": {},
   "outputs": [],
   "source": [
    "resposta, vet = trapezios(ft,h,n,a,b)"
   ]
  },
  {
   "cell_type": "code",
   "execution_count": 178,
   "metadata": {},
   "outputs": [
    {
     "name": "stdout",
     "output_type": "stream",
     "text": [
      "2.1320499999999996\n"
     ]
    }
   ],
   "source": [
    "print (resposta)"
   ]
  },
  {
   "cell_type": "code",
   "execution_count": 179,
   "metadata": {},
   "outputs": [
    {
     "name": "stdout",
     "output_type": "stream",
     "text": [
      "╒═════╤═════════╤════════╕\n",
      "│   n │      xn │      y │\n",
      "╞═════╪═════════╪════════╡\n",
      "│   0 │ 1       │ 1.4142 │\n",
      "├─────┼─────────┼────────┤\n",
      "│   1 │ 1.16667 │ 3.2174 │\n",
      "├─────┼─────────┼────────┤\n",
      "│   2 │ 1.33333 │ 3.6718 │\n",
      "├─────┼─────────┼────────┤\n",
      "│   3 │ 1.5     │ 4.1834 │\n",
      "├─────┼─────────┼────────┤\n",
      "│   4 │ 1.66667 │ 4.7454 │\n",
      "├─────┼─────────┼────────┤\n",
      "│   5 │ 1.83333 │ 5.3524 │\n",
      "├─────┼─────────┼────────┤\n",
      "│   6 │ 2       │ 3      │\n",
      "╘═════╧═════════╧════════╛\n"
     ]
    }
   ],
   "source": [
    "print(tabulate(vet, headers=[\"n\", \"xn\", \"y\"], tablefmt=\"fancy_grid\"))"
   ]
  },
  {
   "cell_type": "markdown",
   "metadata": {},
   "source": [
    "## Questão 1"
   ]
  },
  {
   "cell_type": "code",
   "execution_count": 204,
   "metadata": {},
   "outputs": [],
   "source": [
    "# Dados da tabela (t e v(t))\n",
    "t = np.array([0, 0.5, 1, 1.5, 2, 2.5, 3, 3.5, 4, 4.5, 5])\n",
    "v = np.array([0, 4.67, 7.34, 8.86, 9.73, 10.22, 10.51, 10.67, 10.76, 10.81, 10.81])\n"
   ]
  },
  {
   "cell_type": "code",
   "execution_count": 205,
   "metadata": {},
   "outputs": [],
   "source": [
    "# Adaptando a função previamente criada para o uso na questão\n",
    "# Pois como já são fornecidos os x e f(x) para cada x, a função antiga só funciona quando definimos a f(x)\n",
    "\n",
    "def simpson_composta(t, v):\n",
    "    n = len(t) - 1  # Número de subintervalos\n",
    "    h = (t[-1] - t[0]) / n  # Passo entre os intervalos\n",
    "    \n",
    "    # Aplicando a regra de Simpson composta\n",
    "    soma = v[0] + v[-1]  # Primeiro e último termos\n",
    "    for i in range(1, n, 2):\n",
    "        soma += 4 * v[i]  # Coeficiente 4 para ímpares\n",
    "    for i in range(2, n-1, 2):\n",
    "        soma += 2 * v[i]  # Coeficiente 2 para pares\n",
    "    \n",
    "    resultado = (h / 3) * soma\n",
    "    return resultado"
   ]
  },
  {
   "cell_type": "code",
   "execution_count": 206,
   "metadata": {},
   "outputs": [
    {
     "name": "stdout",
     "output_type": "stream",
     "text": [
      "Distância percorrida em 5 segundos: 44.7350 metros\n"
     ]
    }
   ],
   "source": [
    "distancia = simpson_composta(t, v)\n",
    "print(f\"Distância percorrida em 5 segundos: {distancia:.4f} metros\")"
   ]
  },
  {
   "cell_type": "markdown",
   "metadata": {},
   "source": [
    "## Questão 2"
   ]
  },
  {
   "cell_type": "code",
   "execution_count": 208,
   "metadata": {},
   "outputs": [],
   "source": [
    "# Definindo a função a ser calculada a integral\n",
    "def f(x):\n",
    "    return 5*(x**2) + 3*x + 2"
   ]
  },
  {
   "cell_type": "code",
   "execution_count": 218,
   "metadata": {},
   "outputs": [],
   "source": [
    "# Definir o número de intervalos a ser utilizados\n",
    "n = 5\n",
    "\n",
    "# Definir a h do intervalo a ser calculado\n",
    "a = 0\n",
    "b = 10\n",
    "\n",
    "h = (b-a)/n"
   ]
  },
  {
   "cell_type": "code",
   "execution_count": 219,
   "metadata": {},
   "outputs": [],
   "source": [
    "resposta, vet = trapezios(f,h,n,a,b)"
   ]
  },
  {
   "cell_type": "code",
   "execution_count": 220,
   "metadata": {},
   "outputs": [
    {
     "name": "stdout",
     "output_type": "stream",
     "text": [
      "1870.0\n"
     ]
    }
   ],
   "source": [
    "print(resposta)"
   ]
  },
  {
   "cell_type": "code",
   "execution_count": 221,
   "metadata": {},
   "outputs": [
    {
     "name": "stdout",
     "output_type": "stream",
     "text": [
      "╒═════╤══════╤═════╕\n",
      "│   n │   xn │   y │\n",
      "╞═════╪══════╪═════╡\n",
      "│   0 │    0 │   2 │\n",
      "├─────┼──────┼─────┤\n",
      "│   1 │    2 │  56 │\n",
      "├─────┼──────┼─────┤\n",
      "│   2 │    4 │ 188 │\n",
      "├─────┼──────┼─────┤\n",
      "│   3 │    6 │ 400 │\n",
      "├─────┼──────┼─────┤\n",
      "│   4 │    8 │ 692 │\n",
      "├─────┼──────┼─────┤\n",
      "│   5 │   10 │ 532 │\n",
      "╘═════╧══════╧═════╛\n"
     ]
    }
   ],
   "source": [
    "print(tabulate(vet, headers=[\"n\", \"xn\", \"y\"], tablefmt=\"fancy_grid\"))"
   ]
  },
  {
   "cell_type": "markdown",
   "metadata": {},
   "source": [
    "## Questão 3a"
   ]
  },
  {
   "cell_type": "code",
   "execution_count": null,
   "metadata": {},
   "outputs": [],
   "source": []
  },
  {
   "cell_type": "markdown",
   "metadata": {},
   "source": [
    "## Questão 3b"
   ]
  },
  {
   "cell_type": "code",
   "execution_count": 235,
   "metadata": {},
   "outputs": [],
   "source": [
    "#Trocando as linhas 2 e 3, é possível resolver pelo método de Gauss-Seigel\n",
    "A = [[3, -1, 1], \n",
    "     [3, 6, 2], \n",
    "     [3, 3, 7]]\n",
    "\n",
    "Y = [1, 0, 4]\n",
    "x_init = [0, 0, 0]"
   ]
  },
  {
   "cell_type": "code",
   "execution_count": 236,
   "metadata": {},
   "outputs": [
    {
     "name": "stdout",
     "output_type": "stream",
     "text": [
      "Converged after 6 iterations.\n",
      "Solution: [0.0353510682848767, -0.23678862659534294, 0.6577589535616283]\n"
     ]
    }
   ],
   "source": [
    "# Check if the matrix is diagonally dominant\n",
    "if check_diaDom(A):\n",
    "    # Perform Gauss-Seidel method with specified tolerance\n",
    "    solution = GS_method(A, Y, x_init, tol=0.001)\n",
    "    print(\"Solution:\", solution)\n",
    "else:\n",
    "    print(\"The matrix is not diagonally dominant. The Gauss-Seidel method may not converge.\")\n"
   ]
  },
  {
   "cell_type": "markdown",
   "metadata": {},
   "source": [
    "## Questão 4"
   ]
  },
  {
   "cell_type": "code",
   "execution_count": null,
   "metadata": {},
   "outputs": [],
   "source": [
    "\n",
    "A = array([[2.0,1.0],[5.0,7.0]])\n",
    "b = array([11.0,13.0])\n",
    "x = array([1.0,1.0])\n",
    "\n",
    "sol = Jacobi(A,b, 25, x)\n",
    "\n",
    "print(\"Solution for x is: \", sol)"
   ]
  }
 ],
 "metadata": {
  "kernelspec": {
   "display_name": "base",
   "language": "python",
   "name": "python3"
  },
  "language_info": {
   "codemirror_mode": {
    "name": "ipython",
    "version": 3
   },
   "file_extension": ".py",
   "mimetype": "text/x-python",
   "name": "python",
   "nbconvert_exporter": "python",
   "pygments_lexer": "ipython3",
   "version": "3.11.7"
  }
 },
 "nbformat": 4,
 "nbformat_minor": 2
}
